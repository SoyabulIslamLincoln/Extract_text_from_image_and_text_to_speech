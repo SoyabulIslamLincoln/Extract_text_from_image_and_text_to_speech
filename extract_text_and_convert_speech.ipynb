{
 "metadata": {
  "language_info": {
   "codemirror_mode": {
    "name": "ipython",
    "version": 3
   },
   "file_extension": ".py",
   "mimetype": "text/x-python",
   "name": "python",
   "nbconvert_exporter": "python",
   "pygments_lexer": "ipython3",
   "version": "3.8.3-final"
  },
  "orig_nbformat": 2,
  "kernelspec": {
   "name": "Python 3.8.3 64-bit ('base': conda)",
   "display_name": "Python 3.8.3 64-bit ('base': conda)",
   "metadata": {
    "interpreter": {
     "hash": "993f43443885e9577965a838c2f72275febf3a63507a4f5755af9982bdeac53d"
    }
   }
  }
 },
 "nbformat": 4,
 "nbformat_minor": 2,
 "cells": [
  {
   "cell_type": "code",
   "execution_count": 8,
   "metadata": {},
   "outputs": [
    {
     "output_type": "stream",
     "name": "stdout",
     "text": [
      "Requirement already satisfied: Pillow in c:\\anaconda\\anacondainstall\\lib\\site-packages (7.2.0)\n",
      "Requirement already satisfied: opencv-python in c:\\anaconda\\anacondainstall\\lib\\site-packages (4.4.0.44)\n",
      "Requirement already satisfied: numpy>=1.17.3 in c:\\anaconda\\anacondainstall\\lib\\site-packages (from opencv-python) (1.18.5)\n",
      "Requirement already satisfied: pytesseract in c:\\anaconda\\anacondainstall\\lib\\site-packages (0.3.6)\n",
      "Requirement already satisfied: Pillow in c:\\anaconda\\anacondainstall\\lib\\site-packages (from pytesseract) (7.2.0)\n",
      "Requirement already satisfied: gtts in c:\\anaconda\\anacondainstall\\lib\\site-packages (2.1.1)\n",
      "Requirement already satisfied: gtts-token>=1.1.3 in c:\\anaconda\\anacondainstall\\lib\\site-packages (from gtts) (1.1.3)\n",
      "Requirement already satisfied: beautifulsoup4 in c:\\anaconda\\anacondainstall\\lib\\site-packages (from gtts) (4.9.1)\n",
      "Requirement already satisfied: requests in c:\\anaconda\\anacondainstall\\lib\\site-packages (from gtts) (2.24.0)\n",
      "Requirement already satisfied: six in c:\\anaconda\\anacondainstall\\lib\\site-packages (from gtts) (1.15.0)\n",
      "Requirement already satisfied: click in c:\\anaconda\\anacondainstall\\lib\\site-packages (from gtts) (7.1.2)\n",
      "Requirement already satisfied: soupsieve>1.2 in c:\\anaconda\\anacondainstall\\lib\\site-packages (from beautifulsoup4->gtts) (2.0.1)\n",
      "Requirement already satisfied: chardet<4,>=3.0.2 in c:\\anaconda\\anacondainstall\\lib\\site-packages (from requests->gtts) (3.0.4)\n",
      "Requirement already satisfied: certifi>=2017.4.17 in c:\\anaconda\\anacondainstall\\lib\\site-packages (from requests->gtts) (2020.6.20)\n",
      "Requirement already satisfied: urllib3!=1.25.0,!=1.25.1,<1.26,>=1.21.1 in c:\\anaconda\\anacondainstall\\lib\\site-packages (from requests->gtts) (1.25.9)\n",
      "Requirement already satisfied: idna<3,>=2.5 in c:\\anaconda\\anacondainstall\\lib\\site-packages (from requests->gtts) (2.10)\n",
      "Requirement already satisfied: playsound in c:\\anaconda\\anacondainstall\\lib\\site-packages (1.2.2)\n",
      "Requirement already satisfied: pyttsx3 in c:\\anaconda\\anacondainstall\\lib\\site-packages (2.90)\n",
      "Requirement already satisfied: pywin32; platform_system == \"Windows\" in c:\\anaconda\\anacondainstall\\lib\\site-packages (from pyttsx3) (227)\n",
      "Requirement already satisfied: pypiwin32; platform_system == \"Windows\" in c:\\anaconda\\anacondainstall\\lib\\site-packages (from pyttsx3) (223)\n",
      "Requirement already satisfied: comtypes; platform_system == \"Windows\" in c:\\anaconda\\anacondainstall\\lib\\site-packages (from pyttsx3) (1.1.7)\n",
      "Requirement already satisfied: googletrans in c:\\anaconda\\anacondainstall\\lib\\site-packages (3.0.0)\n",
      "Requirement already satisfied: httpx==0.13.3 in c:\\anaconda\\anacondainstall\\lib\\site-packages (from googletrans) (0.13.3)\n",
      "Requirement already satisfied: chardet==3.* in c:\\anaconda\\anacondainstall\\lib\\site-packages (from httpx==0.13.3->googletrans) (3.0.4)\n",
      "Requirement already satisfied: sniffio in c:\\anaconda\\anacondainstall\\lib\\site-packages (from httpx==0.13.3->googletrans) (1.2.0)\n",
      "Requirement already satisfied: httpcore==0.9.* in c:\\anaconda\\anacondainstall\\lib\\site-packages (from httpx==0.13.3->googletrans) (0.9.1)\n",
      "Requirement already satisfied: certifi in c:\\anaconda\\anacondainstall\\lib\\site-packages (from httpx==0.13.3->googletrans) (2020.6.20)\n",
      "Requirement already satisfied: hstspreload in c:\\anaconda\\anacondainstall\\lib\\site-packages (from httpx==0.13.3->googletrans) (2020.10.20)\n",
      "Requirement already satisfied: rfc3986<2,>=1.3 in c:\\anaconda\\anacondainstall\\lib\\site-packages (from httpx==0.13.3->googletrans) (1.4.0)\n",
      "Requirement already satisfied: idna==2.* in c:\\anaconda\\anacondainstall\\lib\\site-packages (from httpx==0.13.3->googletrans) (2.10)\n",
      "Requirement already satisfied: h2==3.* in c:\\anaconda\\anacondainstall\\lib\\site-packages (from httpcore==0.9.*->httpx==0.13.3->googletrans) (3.2.0)\n",
      "Requirement already satisfied: h11<0.10,>=0.8 in c:\\anaconda\\anacondainstall\\lib\\site-packages (from httpcore==0.9.*->httpx==0.13.3->googletrans) (0.9.0)\n",
      "Requirement already satisfied: hyperframe<6,>=5.2.0 in c:\\anaconda\\anacondainstall\\lib\\site-packages (from h2==3.*->httpcore==0.9.*->httpx==0.13.3->googletrans) (5.2.0)\n",
      "Requirement already satisfied: hpack<4,>=3.0 in c:\\anaconda\\anacondainstall\\lib\\site-packages (from h2==3.*->httpcore==0.9.*->httpx==0.13.3->googletrans) (3.0.0)\n"
     ]
    }
   ],
   "source": [
    "!pip install Pillow\n",
    "!pip install opencv-python\n",
    "!pip install pytesseract\n",
    "!pip install gtts\n",
    "!pip install playsound\n",
    "!pip install pyttsx3\n",
    "!pip install googletrans"
   ]
  },
  {
   "cell_type": "code",
   "execution_count": 2,
   "metadata": {},
   "outputs": [],
   "source": [
    "\n",
    "from tkinter import *\n",
    "from tkinter import filedialog\n",
    "import PIL\n",
    "from PIL import Image, ImageTk\n",
    "import cv2\n",
    "import pytesseract\n",
    "from gtts import gTTS\n",
    "import os\n",
    "from playsound import playsound\n",
    "import pyttsx3\n",
    "from googletrans import Translator"
   ]
  },
  {
   "cell_type": "code",
   "execution_count": 3,
   "metadata": {},
   "outputs": [],
   "source": [
    "root=Tk()\n",
    "pytesseract.pytesseract.tesseract_cmd = 'C:\\\\Program Files\\\\Tesseract-OCR\\\\tesseract.exe'\n",
    "root.title('Extract Text From Image')\n",
    "\n",
    "newline=Label(root)\n",
    "uploaded_img=Label(root)\n",
    "scrollbar= Scrollbar(root)\n",
    "scrollbar.pack(side=RIGHT, fill =Y)"
   ]
  },
  {
   "cell_type": "code",
   "execution_count": 4,
   "metadata": {},
   "outputs": [],
   "source": [
    "def extract_image(path):\n",
    "    actual_image= cv2.imread(path)\n",
    "    resized_image= cv2.resize(actual_image, (500,400))  #resizing the image as per need\n",
    "\n",
    "    Image_ht, Image_wd, Image_thickness= resized_image.shape\n",
    "\n",
    "    resized_image= cv2.cvtColor(resized_image, cv2.COLOR_BGR2RGB)\n",
    "\n",
    "    texts=pytesseract.image_to_data(resized_image)\n",
    "\n",
    "    out_text=\"\"\n",
    "    previous=0\n",
    "\n",
    "    for count, text in enumerate(texts.splitlines()):\n",
    "        if count == 0:\n",
    "            continue\n",
    "        text= text.split()\n",
    "        if len(text) ==12:\n",
    "            x,y,w,h = int(text[6]),int(text[7]),int(text[8]),int(text[9])\n",
    "\n",
    "            if (len(out_text) == 0):\n",
    "                previous=y\n",
    "\n",
    "            if(previous-y>=10 or y-previous>=10):\n",
    "                print(out_text)\n",
    "                Label(root,text = out_text, font=('Times',15,'bold')).pack()\n",
    "                out_text=\"\"\n",
    "            out_text = out_text + text[11]+\" \"\n",
    "            previous=y\n",
    "            \n",
    "        Label(root, text= out_text, font=('Times',15,'bold'))\n",
    "    \n",
    "    pos=out_text\n",
    "    speech= pytesseract.image_to_string(resized_image)\n",
    "    with open('text.txt',mode ='w') as file:\n",
    "        file.write(speech) \n",
    "                  \n",
    "    trans= Translator()\n",
    "    k=trans.translate(speech, dest='english')\n",
    "    engine= pyttsx3.init()\n",
    "\n",
    "    engine.say(k)\n",
    "    engine.runAndWait()\n",
    "\n",
    "    return out_text     \n",
    "\n",
    "\n"
   ]
  },
  {
   "cell_type": "code",
   "execution_count": 5,
   "metadata": {},
   "outputs": [],
   "source": [
    "def extraction_button(path):\n",
    "    extractBtn= Button(root,text=\"Extract text an Play\",command=lambda: extract_image(path),bg=\"#2f2f77\",fg=\"gray\", pady=15, padx=15,font=(\"Helvetica\", 16))\n",
    "    extractBtn.pack()\n",
    "    \n"
   ]
  },
  {
   "cell_type": "code",
   "execution_count": 6,
   "metadata": {},
   "outputs": [],
   "source": [
    "def upload():\n",
    "    try:\n",
    "        path=filedialog.askopenfilename()\n",
    "        image=Image.open(path)\n",
    "        img=ImageTk.PhotoImage(image)\n",
    "        uploaded_img.configure(image=img)\n",
    "        uploaded_img.image=img\n",
    "        extraction_button(path)\n",
    "    except:\n",
    "        pass  "
   ]
  },
  {
   "cell_type": "code",
   "execution_count": 7,
   "metadata": {},
   "outputs": [
    {
     "output_type": "stream",
     "name": "stdout",
     "text": [
      "6.45 Review of Important Concepts \n1. The Jump insiuctions change program exeeution fom its sequential one oa \nder \nent memory location. \n2, The Jump instructions can anor program execution ahead of the sequence Jump \nForward) o behind the sequence ump Beckwar) \n3. The unconditionl Jump is, generlly, used fo set up eontinuoas loops. \n4, The conditional Tums are used forthe decision-making proess based on the data \nconitins ofthe cesul, elected bythe das \n5, Atel iinsions ml te \nA \ncarding he daa of be es \nan the conitonal branch instructions use them to make decisions, However, the \nbranch instructions do nt afect the gs \nCAUTION \nThe conditional ump instuctons will not funetion propery unless the preceding \nstruction sets the neessary flag. Data Copy instmtions do not aft the fags; further \n‘more, some aithnetic and logic instretons either do not affet the Mas or fet oaly \neatin fags \n"
     ]
    }
   ],
   "source": [
    "uploadbtn = Button(root,text=\"Upload an image\",command=upload,bg=\"#2f2f77\",fg=\"gray\",height=2,width=20,font=(\"Helvetica\", 20, 'bold')).pack()\n",
    "#playbtn = Button(root,text=\"Paly\",command=upload,bg=\"#2f2f77\",fg=\"gray\",height=2,width=20,font=(\"Helvetica\", 20, 'bold')).pack()\n",
    "\n",
    "newline.configure(text='\\n')\n",
    "newline.pack()\n",
    "uploaded_img.pack()\n",
    "root.mainloop()\n"
   ]
  },
  {
   "cell_type": "code",
   "execution_count": null,
   "metadata": {},
   "outputs": [],
   "source": []
  }
 ]
}